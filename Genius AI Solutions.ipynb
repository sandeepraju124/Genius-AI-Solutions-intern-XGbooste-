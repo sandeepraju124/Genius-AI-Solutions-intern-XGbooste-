{
 "cells": [
  {
   "cell_type": "markdown",
   "metadata": {},
   "source": [
    "<h1> Genius AI Solutions </h1>\n",
    "Machine Learning internship\n"
   ]
  },
  {
   "cell_type": "code",
   "execution_count": 1,
   "metadata": {},
   "outputs": [],
   "source": [
    "import pandas as pd\n",
    "import matplotlib.pyplot as plt\n",
    "import numpy\n",
    "import seaborn as sns"
   ]
  },
  {
   "cell_type": "code",
   "execution_count": 2,
   "metadata": {},
   "outputs": [],
   "source": [
    "df = pd.read_csv(\"taskdata.csv\")"
   ]
  },
  {
   "cell_type": "code",
   "execution_count": 3,
   "metadata": {},
   "outputs": [
    {
     "data": {
      "text/html": [
       "<div>\n",
       "<style scoped>\n",
       "    .dataframe tbody tr th:only-of-type {\n",
       "        vertical-align: middle;\n",
       "    }\n",
       "\n",
       "    .dataframe tbody tr th {\n",
       "        vertical-align: top;\n",
       "    }\n",
       "\n",
       "    .dataframe thead th {\n",
       "        text-align: right;\n",
       "    }\n",
       "</style>\n",
       "<table border=\"1\" class=\"dataframe\">\n",
       "  <thead>\n",
       "    <tr style=\"text-align: right;\">\n",
       "      <th></th>\n",
       "      <th>user_id</th>\n",
       "      <th>account_id</th>\n",
       "      <th>max_return_days</th>\n",
       "      <th>average_return_days</th>\n",
       "      <th>customer_since_months</th>\n",
       "      <th>total_revenue</th>\n",
       "      <th>average_revenue</th>\n",
       "      <th>avg_vas_count</th>\n",
       "      <th>avg_used_vas_value</th>\n",
       "      <th>business_type</th>\n",
       "      <th>avg_wallet_bonus</th>\n",
       "      <th>avg_active_ads</th>\n",
       "      <th>avg_new_ads</th>\n",
       "      <th>avg_email_replies</th>\n",
       "      <th>avg_call_replies</th>\n",
       "      <th>avg_sms_replies</th>\n",
       "      <th>target</th>\n",
       "    </tr>\n",
       "  </thead>\n",
       "  <tbody>\n",
       "    <tr>\n",
       "      <th>0</th>\n",
       "      <td>410039</td>\n",
       "      <td>496.0</td>\n",
       "      <td>8</td>\n",
       "      <td>1.500000</td>\n",
       "      <td>14</td>\n",
       "      <td>0.0</td>\n",
       "      <td>0.0</td>\n",
       "      <td>3.666667</td>\n",
       "      <td>66.666667</td>\n",
       "      <td>0</td>\n",
       "      <td>300.0</td>\n",
       "      <td>79.333333</td>\n",
       "      <td>15.250000</td>\n",
       "      <td>32.416667</td>\n",
       "      <td>27.916667</td>\n",
       "      <td>0.250000</td>\n",
       "      <td>0</td>\n",
       "    </tr>\n",
       "    <tr>\n",
       "      <th>1</th>\n",
       "      <td>410240</td>\n",
       "      <td>499.0</td>\n",
       "      <td>37</td>\n",
       "      <td>8.200000</td>\n",
       "      <td>10</td>\n",
       "      <td>0.0</td>\n",
       "      <td>0.0</td>\n",
       "      <td>4.900000</td>\n",
       "      <td>114.000000</td>\n",
       "      <td>0</td>\n",
       "      <td>0.0</td>\n",
       "      <td>232.100000</td>\n",
       "      <td>18.300000</td>\n",
       "      <td>16.200000</td>\n",
       "      <td>13.800000</td>\n",
       "      <td>0.000000</td>\n",
       "      <td>0</td>\n",
       "    </tr>\n",
       "    <tr>\n",
       "      <th>2</th>\n",
       "      <td>411764</td>\n",
       "      <td>493.0</td>\n",
       "      <td>9</td>\n",
       "      <td>1.533333</td>\n",
       "      <td>15</td>\n",
       "      <td>0.0</td>\n",
       "      <td>0.0</td>\n",
       "      <td>5.333333</td>\n",
       "      <td>106.666667</td>\n",
       "      <td>0</td>\n",
       "      <td>150.0</td>\n",
       "      <td>55.083333</td>\n",
       "      <td>3.750000</td>\n",
       "      <td>20.250000</td>\n",
       "      <td>24.500000</td>\n",
       "      <td>0.000000</td>\n",
       "      <td>0</td>\n",
       "    </tr>\n",
       "    <tr>\n",
       "      <th>3</th>\n",
       "      <td>411985</td>\n",
       "      <td>262.0</td>\n",
       "      <td>1</td>\n",
       "      <td>1.000000</td>\n",
       "      <td>14</td>\n",
       "      <td>0.0</td>\n",
       "      <td>0.0</td>\n",
       "      <td>6.307692</td>\n",
       "      <td>176.153846</td>\n",
       "      <td>0</td>\n",
       "      <td>1481.0</td>\n",
       "      <td>409.538462</td>\n",
       "      <td>80.769231</td>\n",
       "      <td>87.461538</td>\n",
       "      <td>57.615385</td>\n",
       "      <td>0.000000</td>\n",
       "      <td>1</td>\n",
       "    </tr>\n",
       "    <tr>\n",
       "      <th>4</th>\n",
       "      <td>412071</td>\n",
       "      <td>496.0</td>\n",
       "      <td>1</td>\n",
       "      <td>1.000000</td>\n",
       "      <td>18</td>\n",
       "      <td>0.0</td>\n",
       "      <td>0.0</td>\n",
       "      <td>5.846154</td>\n",
       "      <td>109.230769</td>\n",
       "      <td>0</td>\n",
       "      <td>41.5</td>\n",
       "      <td>48.230769</td>\n",
       "      <td>1.692308</td>\n",
       "      <td>17.461538</td>\n",
       "      <td>25.769231</td>\n",
       "      <td>0.230769</td>\n",
       "      <td>0</td>\n",
       "    </tr>\n",
       "  </tbody>\n",
       "</table>\n",
       "</div>"
      ],
      "text/plain": [
       "   user_id  account_id  max_return_days  average_return_days  \\\n",
       "0   410039       496.0                8             1.500000   \n",
       "1   410240       499.0               37             8.200000   \n",
       "2   411764       493.0                9             1.533333   \n",
       "3   411985       262.0                1             1.000000   \n",
       "4   412071       496.0                1             1.000000   \n",
       "\n",
       "   customer_since_months  total_revenue  average_revenue  avg_vas_count  \\\n",
       "0                     14            0.0              0.0       3.666667   \n",
       "1                     10            0.0              0.0       4.900000   \n",
       "2                     15            0.0              0.0       5.333333   \n",
       "3                     14            0.0              0.0       6.307692   \n",
       "4                     18            0.0              0.0       5.846154   \n",
       "\n",
       "   avg_used_vas_value  business_type  avg_wallet_bonus  avg_active_ads  \\\n",
       "0           66.666667              0             300.0       79.333333   \n",
       "1          114.000000              0               0.0      232.100000   \n",
       "2          106.666667              0             150.0       55.083333   \n",
       "3          176.153846              0            1481.0      409.538462   \n",
       "4          109.230769              0              41.5       48.230769   \n",
       "\n",
       "   avg_new_ads  avg_email_replies  avg_call_replies  avg_sms_replies  target  \n",
       "0    15.250000          32.416667         27.916667         0.250000       0  \n",
       "1    18.300000          16.200000         13.800000         0.000000       0  \n",
       "2     3.750000          20.250000         24.500000         0.000000       0  \n",
       "3    80.769231          87.461538         57.615385         0.000000       1  \n",
       "4     1.692308          17.461538         25.769231         0.230769       0  "
      ]
     },
     "execution_count": 3,
     "metadata": {},
     "output_type": "execute_result"
    }
   ],
   "source": [
    "df.head()"
   ]
  },
  {
   "cell_type": "code",
   "execution_count": 4,
   "metadata": {},
   "outputs": [],
   "source": [
    "#df.describe()"
   ]
  },
  {
   "cell_type": "code",
   "execution_count": 5,
   "metadata": {},
   "outputs": [],
   "source": [
    "#df.shape"
   ]
  },
  {
   "cell_type": "code",
   "execution_count": 6,
   "metadata": {},
   "outputs": [],
   "source": [
    "#df.columns"
   ]
  },
  {
   "cell_type": "code",
   "execution_count": 7,
   "metadata": {},
   "outputs": [],
   "source": [
    "#df.info()"
   ]
  },
  {
   "cell_type": "code",
   "execution_count": 8,
   "metadata": {},
   "outputs": [],
   "source": [
    "#df.nunique()"
   ]
  },
  {
   "cell_type": "markdown",
   "metadata": {},
   "source": [
    "<H1> EDA </H1>"
   ]
  },
  {
   "cell_type": "markdown",
   "metadata": {},
   "source": [
    "<p><h3>cleaning the data</h3></p>"
   ]
  },
  {
   "cell_type": "markdown",
   "metadata": {},
   "source": [
    "<h6>removing  useless columns</h6>\n",
    "<p> here user_id and account_id is of no use</p>"
   ]
  },
  {
   "cell_type": "code",
   "execution_count": 9,
   "metadata": {},
   "outputs": [],
   "source": [
    "df = df.drop([\"user_id\",\"account_id\"], axis = 1)"
   ]
  },
  {
   "cell_type": "code",
   "execution_count": 10,
   "metadata": {},
   "outputs": [
    {
     "data": {
      "text/html": [
       "<div>\n",
       "<style scoped>\n",
       "    .dataframe tbody tr th:only-of-type {\n",
       "        vertical-align: middle;\n",
       "    }\n",
       "\n",
       "    .dataframe tbody tr th {\n",
       "        vertical-align: top;\n",
       "    }\n",
       "\n",
       "    .dataframe thead th {\n",
       "        text-align: right;\n",
       "    }\n",
       "</style>\n",
       "<table border=\"1\" class=\"dataframe\">\n",
       "  <thead>\n",
       "    <tr style=\"text-align: right;\">\n",
       "      <th></th>\n",
       "      <th>max_return_days</th>\n",
       "      <th>average_return_days</th>\n",
       "      <th>customer_since_months</th>\n",
       "      <th>total_revenue</th>\n",
       "      <th>average_revenue</th>\n",
       "      <th>avg_vas_count</th>\n",
       "      <th>avg_used_vas_value</th>\n",
       "      <th>business_type</th>\n",
       "      <th>avg_wallet_bonus</th>\n",
       "      <th>avg_active_ads</th>\n",
       "      <th>avg_new_ads</th>\n",
       "      <th>avg_email_replies</th>\n",
       "      <th>avg_call_replies</th>\n",
       "      <th>avg_sms_replies</th>\n",
       "      <th>target</th>\n",
       "    </tr>\n",
       "  </thead>\n",
       "  <tbody>\n",
       "    <tr>\n",
       "      <th>0</th>\n",
       "      <td>8</td>\n",
       "      <td>1.500000</td>\n",
       "      <td>14</td>\n",
       "      <td>0.0</td>\n",
       "      <td>0.0</td>\n",
       "      <td>3.666667</td>\n",
       "      <td>66.666667</td>\n",
       "      <td>0</td>\n",
       "      <td>300.0</td>\n",
       "      <td>79.333333</td>\n",
       "      <td>15.250000</td>\n",
       "      <td>32.416667</td>\n",
       "      <td>27.916667</td>\n",
       "      <td>0.250000</td>\n",
       "      <td>0</td>\n",
       "    </tr>\n",
       "    <tr>\n",
       "      <th>1</th>\n",
       "      <td>37</td>\n",
       "      <td>8.200000</td>\n",
       "      <td>10</td>\n",
       "      <td>0.0</td>\n",
       "      <td>0.0</td>\n",
       "      <td>4.900000</td>\n",
       "      <td>114.000000</td>\n",
       "      <td>0</td>\n",
       "      <td>0.0</td>\n",
       "      <td>232.100000</td>\n",
       "      <td>18.300000</td>\n",
       "      <td>16.200000</td>\n",
       "      <td>13.800000</td>\n",
       "      <td>0.000000</td>\n",
       "      <td>0</td>\n",
       "    </tr>\n",
       "    <tr>\n",
       "      <th>2</th>\n",
       "      <td>9</td>\n",
       "      <td>1.533333</td>\n",
       "      <td>15</td>\n",
       "      <td>0.0</td>\n",
       "      <td>0.0</td>\n",
       "      <td>5.333333</td>\n",
       "      <td>106.666667</td>\n",
       "      <td>0</td>\n",
       "      <td>150.0</td>\n",
       "      <td>55.083333</td>\n",
       "      <td>3.750000</td>\n",
       "      <td>20.250000</td>\n",
       "      <td>24.500000</td>\n",
       "      <td>0.000000</td>\n",
       "      <td>0</td>\n",
       "    </tr>\n",
       "    <tr>\n",
       "      <th>3</th>\n",
       "      <td>1</td>\n",
       "      <td>1.000000</td>\n",
       "      <td>14</td>\n",
       "      <td>0.0</td>\n",
       "      <td>0.0</td>\n",
       "      <td>6.307692</td>\n",
       "      <td>176.153846</td>\n",
       "      <td>0</td>\n",
       "      <td>1481.0</td>\n",
       "      <td>409.538462</td>\n",
       "      <td>80.769231</td>\n",
       "      <td>87.461538</td>\n",
       "      <td>57.615385</td>\n",
       "      <td>0.000000</td>\n",
       "      <td>1</td>\n",
       "    </tr>\n",
       "    <tr>\n",
       "      <th>4</th>\n",
       "      <td>1</td>\n",
       "      <td>1.000000</td>\n",
       "      <td>18</td>\n",
       "      <td>0.0</td>\n",
       "      <td>0.0</td>\n",
       "      <td>5.846154</td>\n",
       "      <td>109.230769</td>\n",
       "      <td>0</td>\n",
       "      <td>41.5</td>\n",
       "      <td>48.230769</td>\n",
       "      <td>1.692308</td>\n",
       "      <td>17.461538</td>\n",
       "      <td>25.769231</td>\n",
       "      <td>0.230769</td>\n",
       "      <td>0</td>\n",
       "    </tr>\n",
       "  </tbody>\n",
       "</table>\n",
       "</div>"
      ],
      "text/plain": [
       "   max_return_days  average_return_days  customer_since_months  total_revenue  \\\n",
       "0                8             1.500000                     14            0.0   \n",
       "1               37             8.200000                     10            0.0   \n",
       "2                9             1.533333                     15            0.0   \n",
       "3                1             1.000000                     14            0.0   \n",
       "4                1             1.000000                     18            0.0   \n",
       "\n",
       "   average_revenue  avg_vas_count  avg_used_vas_value  business_type  \\\n",
       "0              0.0       3.666667           66.666667              0   \n",
       "1              0.0       4.900000          114.000000              0   \n",
       "2              0.0       5.333333          106.666667              0   \n",
       "3              0.0       6.307692          176.153846              0   \n",
       "4              0.0       5.846154          109.230769              0   \n",
       "\n",
       "   avg_wallet_bonus  avg_active_ads  avg_new_ads  avg_email_replies  \\\n",
       "0             300.0       79.333333    15.250000          32.416667   \n",
       "1               0.0      232.100000    18.300000          16.200000   \n",
       "2             150.0       55.083333     3.750000          20.250000   \n",
       "3            1481.0      409.538462    80.769231          87.461538   \n",
       "4              41.5       48.230769     1.692308          17.461538   \n",
       "\n",
       "   avg_call_replies  avg_sms_replies  target  \n",
       "0         27.916667         0.250000       0  \n",
       "1         13.800000         0.000000       0  \n",
       "2         24.500000         0.000000       0  \n",
       "3         57.615385         0.000000       1  \n",
       "4         25.769231         0.230769       0  "
      ]
     },
     "execution_count": 10,
     "metadata": {},
     "output_type": "execute_result"
    }
   ],
   "source": [
    "df.head()"
   ]
  },
  {
   "cell_type": "code",
   "execution_count": 11,
   "metadata": {},
   "outputs": [
    {
     "data": {
      "text/plain": [
       "(4407, 15)"
      ]
     },
     "execution_count": 11,
     "metadata": {},
     "output_type": "execute_result"
    }
   ],
   "source": [
    "df.shape"
   ]
  },
  {
   "cell_type": "markdown",
   "metadata": {},
   "source": [
    "<h3> Handling Null Values <h3>"
   ]
  },
  {
   "cell_type": "code",
   "execution_count": 12,
   "metadata": {},
   "outputs": [
    {
     "data": {
      "text/plain": [
       "<matplotlib.axes._subplots.AxesSubplot at 0x21752299490>"
      ]
     },
     "execution_count": 12,
     "metadata": {},
     "output_type": "execute_result"
    },
    {
     "data": {
      "image/png": "[encoded data removed]",
      "text/plain": [
       "<Figure size 432x288 with 1 Axes>"
      ]
     },
     "metadata": {},
     "output_type": "display_data"
    }
   ],
   "source": [
    "sns.heatmap(df,cbar=False,xticklabels = False,yticklabels = False)"
   ]
  },
  {
   "cell_type": "code",
   "execution_count": 13,
   "metadata": {},
   "outputs": [
    {
     "data": {
      "text/plain": [
       "max_return_days          0\n",
       "average_return_days      0\n",
       "customer_since_months    0\n",
       "total_revenue            0\n",
       "average_revenue          0\n",
       "avg_vas_count            0\n",
       "avg_used_vas_value       0\n",
       "business_type            0\n",
       "avg_wallet_bonus         0\n",
       "avg_active_ads           0\n",
       "avg_new_ads              0\n",
       "avg_email_replies        0\n",
       "avg_call_replies         0\n",
       "avg_sms_replies          0\n",
       "target                   0\n",
       "dtype: int64"
      ]
     },
     "execution_count": 13,
     "metadata": {},
     "output_type": "execute_result"
    }
   ],
   "source": [
    "df.isnull().sum()"
   ]
  },
  {
   "cell_type": "markdown",
   "metadata": {},
   "source": [
    "<h2>no missing values</h2>"
   ]
  },
  {
   "cell_type": "code",
   "execution_count": 14,
   "metadata": {},
   "outputs": [],
   "source": [
    "from sklearn.model_selection import train_test_split"
   ]
  },
  {
   "cell_type": "code",
   "execution_count": 15,
   "metadata": {},
   "outputs": [],
   "source": [
    "X = df.iloc[:,:-1]\n",
    "y = df[\"target\"]"
   ]
  },
  {
   "cell_type": "code",
   "execution_count": 16,
   "metadata": {},
   "outputs": [],
   "source": [
    "X_train,X_test,y_train,y_test = train_test_split(X,y,test_size = 0.2,random_state = 0)"
   ]
  },
  {
   "cell_type": "code",
   "execution_count": 17,
   "metadata": {},
   "outputs": [
    {
     "data": {
      "text/plain": [
       "max_return_days           2.000000\n",
       "average_return_days       1.076923\n",
       "customer_since_months    12.000000\n",
       "total_revenue             0.000000\n",
       "average_revenue           0.000000\n",
       "avg_vas_count             2.000000\n",
       "avg_used_vas_value       45.000000\n",
       "business_type             0.000000\n",
       "avg_wallet_bonus         40.000000\n",
       "avg_active_ads           40.000000\n",
       "avg_new_ads               6.333333\n",
       "avg_email_replies        12.266667\n",
       "avg_call_replies         12.933333\n",
       "avg_sms_replies           0.000000\n",
       "target                    0.000000\n",
       "Name: 0.5, dtype: float64"
      ]
     },
     "execution_count": 17,
     "metadata": {},
     "output_type": "execute_result"
    }
   ],
   "source": [
    "df.quantile()"
   ]
  },
  {
   "cell_type": "code",
   "execution_count": null,
   "metadata": {},
   "outputs": [],
   "source": []
  },
  {
   "cell_type": "markdown",
   "metadata": {},
   "source": [
    "<h1> feature selection </h1>"
   ]
  },
  {
   "cell_type": "code",
   "execution_count": 18,
   "metadata": {},
   "outputs": [],
   "source": [
    "from sklearn.ensemble import ExtraTreesClassifier"
   ]
  },
  {
   "cell_type": "code",
   "execution_count": 19,
   "metadata": {},
   "outputs": [],
   "source": [
    "forest = ExtraTreesClassifier()"
   ]
  },
  {
   "cell_type": "code",
   "execution_count": 20,
   "metadata": {},
   "outputs": [
    {
     "data": {
      "text/plain": [
       "ExtraTreesClassifier()"
      ]
     },
     "execution_count": 20,
     "metadata": {},
     "output_type": "execute_result"
    }
   ],
   "source": [
    "forest.fit(X,y)"
   ]
  },
  {
   "cell_type": "code",
   "execution_count": 21,
   "metadata": {},
   "outputs": [],
   "source": [
    "importances = forest.feature_importances_"
   ]
  },
  {
   "cell_type": "code",
   "execution_count": 22,
   "metadata": {},
   "outputs": [
    {
     "data": {
      "image/png": "[encoded data removed]",
      "text/plain": [
       "<Figure size 2160x720 with 1 Axes>"
      ]
     },
     "metadata": {
      "needs_background": "light"
     },
     "output_type": "display_data"
    }
   ],
   "source": [
    "plt.figure(figsize=(30,10))\n",
    "plt.bar(X.columns, importances) \n",
    "plt.xlabel('Feature Labels') \n",
    "plt.ylabel('Feature Importances') \n",
    "plt.title('Comparison of different Feature Importances') \n",
    "plt.show() "
   ]
  },
  {
   "cell_type": "markdown",
   "metadata": {},
   "source": [
    "from feature importance \"total revenue\" and \"average revenue\" features as less importance so we can drop it"
   ]
  },
  {
   "cell_type": "code",
   "execution_count": 23,
   "metadata": {},
   "outputs": [
    {
     "data": {
      "text/plain": [
       "<matplotlib.axes._subplots.AxesSubplot at 0x2174d461760>"
      ]
     },
     "execution_count": 23,
     "metadata": {},
     "output_type": "execute_result"
    },
    {
     "data": {
      "image/png": "[encoded data removed]",
      "text/plain": [
       "<Figure size 720x360 with 2 Axes>"
      ]
     },
     "metadata": {
      "needs_background": "light"
     },
     "output_type": "display_data"
    }
   ],
   "source": [
    "plt.figure(figsize=(10,5))\n",
    "sns.heatmap(df.corr(),annot=True)"
   ]
  },
  {
   "cell_type": "markdown",
   "metadata": {},
   "source": [
    "from correlation avg_vas_count, avg_used_vas_score as highest correlation so we can take either one"
   ]
  },
  {
   "cell_type": "code",
   "execution_count": 24,
   "metadata": {},
   "outputs": [],
   "source": [
    "df = df.drop([\"average_revenue\",\"avg_vas_count\"], axis = True)"
   ]
  },
  {
   "cell_type": "code",
   "execution_count": 25,
   "metadata": {},
   "outputs": [
    {
     "data": {
      "text/html": [
       "<div>\n",
       "<style scoped>\n",
       "    .dataframe tbody tr th:only-of-type {\n",
       "        vertical-align: middle;\n",
       "    }\n",
       "\n",
       "    .dataframe tbody tr th {\n",
       "        vertical-align: top;\n",
       "    }\n",
       "\n",
       "    .dataframe thead th {\n",
       "        text-align: right;\n",
       "    }\n",
       "</style>\n",
       "<table border=\"1\" class=\"dataframe\">\n",
       "  <thead>\n",
       "    <tr style=\"text-align: right;\">\n",
       "      <th></th>\n",
       "      <th>max_return_days</th>\n",
       "      <th>average_return_days</th>\n",
       "      <th>customer_since_months</th>\n",
       "      <th>total_revenue</th>\n",
       "      <th>avg_used_vas_value</th>\n",
       "      <th>business_type</th>\n",
       "      <th>avg_wallet_bonus</th>\n",
       "      <th>avg_active_ads</th>\n",
       "      <th>avg_new_ads</th>\n",
       "      <th>avg_email_replies</th>\n",
       "      <th>avg_call_replies</th>\n",
       "      <th>avg_sms_replies</th>\n",
       "      <th>target</th>\n",
       "    </tr>\n",
       "  </thead>\n",
       "  <tbody>\n",
       "    <tr>\n",
       "      <th>0</th>\n",
       "      <td>8</td>\n",
       "      <td>1.500000</td>\n",
       "      <td>14</td>\n",
       "      <td>0.0</td>\n",
       "      <td>66.666667</td>\n",
       "      <td>0</td>\n",
       "      <td>300.0</td>\n",
       "      <td>79.333333</td>\n",
       "      <td>15.250000</td>\n",
       "      <td>32.416667</td>\n",
       "      <td>27.916667</td>\n",
       "      <td>0.250000</td>\n",
       "      <td>0</td>\n",
       "    </tr>\n",
       "    <tr>\n",
       "      <th>1</th>\n",
       "      <td>37</td>\n",
       "      <td>8.200000</td>\n",
       "      <td>10</td>\n",
       "      <td>0.0</td>\n",
       "      <td>114.000000</td>\n",
       "      <td>0</td>\n",
       "      <td>0.0</td>\n",
       "      <td>232.100000</td>\n",
       "      <td>18.300000</td>\n",
       "      <td>16.200000</td>\n",
       "      <td>13.800000</td>\n",
       "      <td>0.000000</td>\n",
       "      <td>0</td>\n",
       "    </tr>\n",
       "    <tr>\n",
       "      <th>2</th>\n",
       "      <td>9</td>\n",
       "      <td>1.533333</td>\n",
       "      <td>15</td>\n",
       "      <td>0.0</td>\n",
       "      <td>106.666667</td>\n",
       "      <td>0</td>\n",
       "      <td>150.0</td>\n",
       "      <td>55.083333</td>\n",
       "      <td>3.750000</td>\n",
       "      <td>20.250000</td>\n",
       "      <td>24.500000</td>\n",
       "      <td>0.000000</td>\n",
       "      <td>0</td>\n",
       "    </tr>\n",
       "    <tr>\n",
       "      <th>3</th>\n",
       "      <td>1</td>\n",
       "      <td>1.000000</td>\n",
       "      <td>14</td>\n",
       "      <td>0.0</td>\n",
       "      <td>176.153846</td>\n",
       "      <td>0</td>\n",
       "      <td>1481.0</td>\n",
       "      <td>409.538462</td>\n",
       "      <td>80.769231</td>\n",
       "      <td>87.461538</td>\n",
       "      <td>57.615385</td>\n",
       "      <td>0.000000</td>\n",
       "      <td>1</td>\n",
       "    </tr>\n",
       "    <tr>\n",
       "      <th>4</th>\n",
       "      <td>1</td>\n",
       "      <td>1.000000</td>\n",
       "      <td>18</td>\n",
       "      <td>0.0</td>\n",
       "      <td>109.230769</td>\n",
       "      <td>0</td>\n",
       "      <td>41.5</td>\n",
       "      <td>48.230769</td>\n",
       "      <td>1.692308</td>\n",
       "      <td>17.461538</td>\n",
       "      <td>25.769231</td>\n",
       "      <td>0.230769</td>\n",
       "      <td>0</td>\n",
       "    </tr>\n",
       "  </tbody>\n",
       "</table>\n",
       "</div>"
      ],
      "text/plain": [
       "   max_return_days  average_return_days  customer_since_months  total_revenue  \\\n",
       "0                8             1.500000                     14            0.0   \n",
       "1               37             8.200000                     10            0.0   \n",
       "2                9             1.533333                     15            0.0   \n",
       "3                1             1.000000                     14            0.0   \n",
       "4                1             1.000000                     18            0.0   \n",
       "\n",
       "   avg_used_vas_value  business_type  avg_wallet_bonus  avg_active_ads  \\\n",
       "0           66.666667              0             300.0       79.333333   \n",
       "1          114.000000              0               0.0      232.100000   \n",
       "2          106.666667              0             150.0       55.083333   \n",
       "3          176.153846              0            1481.0      409.538462   \n",
       "4          109.230769              0              41.5       48.230769   \n",
       "\n",
       "   avg_new_ads  avg_email_replies  avg_call_replies  avg_sms_replies  target  \n",
       "0    15.250000          32.416667         27.916667         0.250000       0  \n",
       "1    18.300000          16.200000         13.800000         0.000000       0  \n",
       "2     3.750000          20.250000         24.500000         0.000000       0  \n",
       "3    80.769231          87.461538         57.615385         0.000000       1  \n",
       "4     1.692308          17.461538         25.769231         0.230769       0  "
      ]
     },
     "execution_count": 25,
     "metadata": {},
     "output_type": "execute_result"
    }
   ],
   "source": [
    "df.head()"
   ]
  },
  {
   "cell_type": "code",
   "execution_count": 26,
   "metadata": {},
   "outputs": [
    {
     "data": {
      "text/plain": [
       "Index(['max_return_days', 'average_return_days', 'customer_since_months',\n",
       "       'total_revenue', 'avg_used_vas_value', 'business_type',\n",
       "       'avg_wallet_bonus', 'avg_active_ads', 'avg_new_ads',\n",
       "       'avg_email_replies', 'avg_call_replies', 'avg_sms_replies', 'target'],\n",
       "      dtype='object')"
      ]
     },
     "execution_count": 26,
     "metadata": {},
     "output_type": "execute_result"
    }
   ],
   "source": [
    "df.columns"
   ]
  },
  {
   "cell_type": "code",
   "execution_count": 27,
   "metadata": {},
   "outputs": [
    {
     "data": {
      "image/png": "[encoded data removed]",
      "text/plain": [
       "<Figure size 1080x360 with 1 Axes>"
      ]
     },
     "metadata": {
      "needs_background": "light"
     },
     "output_type": "display_data"
    }
   ],
   "source": [
    "col =[\"avg_used_vas_value\",\"average_return_days\",\"avg_new_ads\",\"avg_sms_replies\",\"avg_active_ads\",\n",
    "      \"avg_email_replies\",\"target\",\"business_type\"]\n",
    "plt.figure(figsize=(15,5))\n",
    "df[col].boxplot()\n",
    "plt.show()\n"
   ]
  },
  {
   "cell_type": "code",
   "execution_count": 28,
   "metadata": {},
   "outputs": [
    {
     "data": {
      "text/plain": [
       "<matplotlib.axes._subplots.AxesSubplot at 0x21754bdd2e0>"
      ]
     },
     "execution_count": 28,
     "metadata": {},
     "output_type": "execute_result"
    },
    {
     "data": {
      "image/png": "[encoded data removed]",
      "text/plain": [
       "<Figure size 432x288 with 1 Axes>"
      ]
     },
     "metadata": {
      "needs_background": "light"
     },
     "output_type": "display_data"
    }
   ],
   "source": [
    "\n",
    "sns.boxplot(\"avg_wallet_bonus\",data=df)\n"
   ]
  },
  {
   "cell_type": "code",
   "execution_count": 29,
   "metadata": {},
   "outputs": [],
   "source": [
    "df = df[df.avg_active_ads <= 400]\n",
    "df = df[df.avg_used_vas_value <= 750]"
   ]
  },
  {
   "cell_type": "code",
   "execution_count": 30,
   "metadata": {},
   "outputs": [
    {
     "data": {
      "text/plain": [
       "(4256, 13)"
      ]
     },
     "execution_count": 30,
     "metadata": {},
     "output_type": "execute_result"
    }
   ],
   "source": [
    "df.shape"
   ]
  },
  {
   "cell_type": "code",
   "execution_count": 31,
   "metadata": {},
   "outputs": [],
   "source": [
    "#sns.pairplot(df)"
   ]
  },
  {
   "cell_type": "markdown",
   "metadata": {},
   "source": [
    "<h2> deriving new features </h2>"
   ]
  },
  {
   "cell_type": "code",
   "execution_count": 32,
   "metadata": {},
   "outputs": [
    {
     "data": {
      "text/plain": [
       "array([14, 10, 15, 18, 11, 16,  5,  2, 13,  3,  9, 12, 21, 17,  7,  6,  4,\n",
       "        1, 19,  8, 24, 20, 23], dtype=int64)"
      ]
     },
     "execution_count": 32,
     "metadata": {},
     "output_type": "execute_result"
    }
   ],
   "source": [
    "df.customer_since_months.unique()"
   ]
  },
  {
   "cell_type": "markdown",
   "metadata": {},
   "source": [
    "customer_since_months is No of months since user started paying \n",
    "from this we derived a new feature as exp_pay where below 12 months referred as not experinces and \n",
    "above is refered as more experinced "
   ]
  },
  {
   "cell_type": "code",
   "execution_count": 33,
   "metadata": {},
   "outputs": [],
   "source": [
    "def experinces_payers(df):\n",
    "    if df[\"customer_since_months\"]<12:\n",
    "        return 0\n",
    "    else:\n",
    "        return 1\n",
    "    \n",
    "X[\"exp_pay\"]= X.apply(lambda df:experinces_payers(df), axis = 1)\n"
   ]
  },
  {
   "cell_type": "markdown",
   "metadata": {},
   "source": [
    "avg_active_ads is a total number of active ads range from 0 to 398 \n",
    "from this we derived a new feature as less_more_adds where below 80 referred as less ads and \n",
    "above is refered as more ads "
   ]
  },
  {
   "cell_type": "code",
   "execution_count": 35,
   "metadata": {},
   "outputs": [],
   "source": [
    "def revenue(df):\n",
    "    if df[\"avg_active_ads\"] < 80:\n",
    "        return 0\n",
    "    else:\n",
    "        return 1\n",
    "    \n",
    "X['less_more_adds']= X.apply(lambda df:revenue(df), axis = 1)\n"
   ]
  },
  {
   "cell_type": "code",
   "execution_count": 36,
   "metadata": {},
   "outputs": [
    {
     "data": {
      "text/html": [
       "<div>\n",
       "<style scoped>\n",
       "    .dataframe tbody tr th:only-of-type {\n",
       "        vertical-align: middle;\n",
       "    }\n",
       "\n",
       "    .dataframe tbody tr th {\n",
       "        vertical-align: top;\n",
       "    }\n",
       "\n",
       "    .dataframe thead th {\n",
       "        text-align: right;\n",
       "    }\n",
       "</style>\n",
       "<table border=\"1\" class=\"dataframe\">\n",
       "  <thead>\n",
       "    <tr style=\"text-align: right;\">\n",
       "      <th></th>\n",
       "      <th>max_return_days</th>\n",
       "      <th>average_return_days</th>\n",
       "      <th>customer_since_months</th>\n",
       "      <th>total_revenue</th>\n",
       "      <th>average_revenue</th>\n",
       "      <th>avg_vas_count</th>\n",
       "      <th>avg_used_vas_value</th>\n",
       "      <th>business_type</th>\n",
       "      <th>avg_wallet_bonus</th>\n",
       "      <th>avg_active_ads</th>\n",
       "      <th>avg_new_ads</th>\n",
       "      <th>avg_email_replies</th>\n",
       "      <th>avg_call_replies</th>\n",
       "      <th>avg_sms_replies</th>\n",
       "      <th>exp_pay</th>\n",
       "      <th>less_more_adds</th>\n",
       "    </tr>\n",
       "  </thead>\n",
       "  <tbody>\n",
       "    <tr>\n",
       "      <th>0</th>\n",
       "      <td>8</td>\n",
       "      <td>1.500000</td>\n",
       "      <td>14</td>\n",
       "      <td>0.0</td>\n",
       "      <td>0.0</td>\n",
       "      <td>3.666667</td>\n",
       "      <td>66.666667</td>\n",
       "      <td>0</td>\n",
       "      <td>300.0</td>\n",
       "      <td>79.333333</td>\n",
       "      <td>15.250000</td>\n",
       "      <td>32.416667</td>\n",
       "      <td>27.916667</td>\n",
       "      <td>0.250000</td>\n",
       "      <td>1</td>\n",
       "      <td>0</td>\n",
       "    </tr>\n",
       "    <tr>\n",
       "      <th>1</th>\n",
       "      <td>37</td>\n",
       "      <td>8.200000</td>\n",
       "      <td>10</td>\n",
       "      <td>0.0</td>\n",
       "      <td>0.0</td>\n",
       "      <td>4.900000</td>\n",
       "      <td>114.000000</td>\n",
       "      <td>0</td>\n",
       "      <td>0.0</td>\n",
       "      <td>232.100000</td>\n",
       "      <td>18.300000</td>\n",
       "      <td>16.200000</td>\n",
       "      <td>13.800000</td>\n",
       "      <td>0.000000</td>\n",
       "      <td>0</td>\n",
       "      <td>1</td>\n",
       "    </tr>\n",
       "    <tr>\n",
       "      <th>2</th>\n",
       "      <td>9</td>\n",
       "      <td>1.533333</td>\n",
       "      <td>15</td>\n",
       "      <td>0.0</td>\n",
       "      <td>0.0</td>\n",
       "      <td>5.333333</td>\n",
       "      <td>106.666667</td>\n",
       "      <td>0</td>\n",
       "      <td>150.0</td>\n",
       "      <td>55.083333</td>\n",
       "      <td>3.750000</td>\n",
       "      <td>20.250000</td>\n",
       "      <td>24.500000</td>\n",
       "      <td>0.000000</td>\n",
       "      <td>1</td>\n",
       "      <td>0</td>\n",
       "    </tr>\n",
       "    <tr>\n",
       "      <th>3</th>\n",
       "      <td>1</td>\n",
       "      <td>1.000000</td>\n",
       "      <td>14</td>\n",
       "      <td>0.0</td>\n",
       "      <td>0.0</td>\n",
       "      <td>6.307692</td>\n",
       "      <td>176.153846</td>\n",
       "      <td>0</td>\n",
       "      <td>1481.0</td>\n",
       "      <td>409.538462</td>\n",
       "      <td>80.769231</td>\n",
       "      <td>87.461538</td>\n",
       "      <td>57.615385</td>\n",
       "      <td>0.000000</td>\n",
       "      <td>1</td>\n",
       "      <td>1</td>\n",
       "    </tr>\n",
       "    <tr>\n",
       "      <th>4</th>\n",
       "      <td>1</td>\n",
       "      <td>1.000000</td>\n",
       "      <td>18</td>\n",
       "      <td>0.0</td>\n",
       "      <td>0.0</td>\n",
       "      <td>5.846154</td>\n",
       "      <td>109.230769</td>\n",
       "      <td>0</td>\n",
       "      <td>41.5</td>\n",
       "      <td>48.230769</td>\n",
       "      <td>1.692308</td>\n",
       "      <td>17.461538</td>\n",
       "      <td>25.769231</td>\n",
       "      <td>0.230769</td>\n",
       "      <td>1</td>\n",
       "      <td>0</td>\n",
       "    </tr>\n",
       "  </tbody>\n",
       "</table>\n",
       "</div>"
      ],
      "text/plain": [
       "   max_return_days  average_return_days  customer_since_months  total_revenue  \\\n",
       "0                8             1.500000                     14            0.0   \n",
       "1               37             8.200000                     10            0.0   \n",
       "2                9             1.533333                     15            0.0   \n",
       "3                1             1.000000                     14            0.0   \n",
       "4                1             1.000000                     18            0.0   \n",
       "\n",
       "   average_revenue  avg_vas_count  avg_used_vas_value  business_type  \\\n",
       "0              0.0       3.666667           66.666667              0   \n",
       "1              0.0       4.900000          114.000000              0   \n",
       "2              0.0       5.333333          106.666667              0   \n",
       "3              0.0       6.307692          176.153846              0   \n",
       "4              0.0       5.846154          109.230769              0   \n",
       "\n",
       "   avg_wallet_bonus  avg_active_ads  avg_new_ads  avg_email_replies  \\\n",
       "0             300.0       79.333333    15.250000          32.416667   \n",
       "1               0.0      232.100000    18.300000          16.200000   \n",
       "2             150.0       55.083333     3.750000          20.250000   \n",
       "3            1481.0      409.538462    80.769231          87.461538   \n",
       "4              41.5       48.230769     1.692308          17.461538   \n",
       "\n",
       "   avg_call_replies  avg_sms_replies  exp_pay  less_more_adds  \n",
       "0         27.916667         0.250000        1               0  \n",
       "1         13.800000         0.000000        0               1  \n",
       "2         24.500000         0.000000        1               0  \n",
       "3         57.615385         0.000000        1               1  \n",
       "4         25.769231         0.230769        1               0  "
      ]
     },
     "execution_count": 36,
     "metadata": {},
     "output_type": "execute_result"
    }
   ],
   "source": [
    "X.head()"
   ]
  },
  {
   "cell_type": "markdown",
   "metadata": {},
   "source": [
    "<h1> model building </h1> "
   ]
  },
  {
   "cell_type": "code",
   "execution_count": 37,
   "metadata": {},
   "outputs": [
    {
     "data": {
      "text/plain": [
       "0    3822\n",
       "1     434\n",
       "Name: target, dtype: int64"
      ]
     },
     "execution_count": 37,
     "metadata": {},
     "output_type": "execute_result"
    }
   ],
   "source": [
    "df[\"target\"].value_counts()"
   ]
  },
  {
   "cell_type": "markdown",
   "metadata": {},
   "source": [
    "from this we can clearly observe that the data set is imbalance \n",
    "so we can do over sampling are under sampling"
   ]
  },
  {
   "cell_type": "code",
   "execution_count": 38,
   "metadata": {},
   "outputs": [],
   "source": [
    "from xgboost import XGBClassifier"
   ]
  },
  {
   "cell_type": "code",
   "execution_count": 39,
   "metadata": {},
   "outputs": [],
   "source": [
    "from sklearn.metrics import accuracy_score"
   ]
  },
  {
   "cell_type": "code",
   "execution_count": 40,
   "metadata": {},
   "outputs": [],
   "source": [
    "from imblearn.over_sampling import RandomOverSampler"
   ]
  },
  {
   "cell_type": "code",
   "execution_count": 41,
   "metadata": {},
   "outputs": [],
   "source": [
    "rs =RandomOverSampler()"
   ]
  },
  {
   "cell_type": "code",
   "execution_count": 42,
   "metadata": {},
   "outputs": [],
   "source": [
    "X_train_rs,y_train_rs = rs.fit_sample(X_train,y_train)"
   ]
  },
  {
   "cell_type": "code",
   "execution_count": 43,
   "metadata": {},
   "outputs": [],
   "source": [
    "model = XGBClassifier()"
   ]
  },
  {
   "cell_type": "code",
   "execution_count": 44,
   "metadata": {},
   "outputs": [
    {
     "data": {
      "text/plain": [
       "XGBClassifier(base_score=0.5, booster='gbtree', colsample_bylevel=1,\n",
       "              colsample_bynode=1, colsample_bytree=1, gamma=0, gpu_id=-1,\n",
       "              importance_type='gain', interaction_constraints='',\n",
       "              learning_rate=0.300000012, max_delta_step=0, max_depth=6,\n",
       "              min_child_weight=1, missing=nan, monotone_constraints='()',\n",
       "              n_estimators=100, n_jobs=0, num_parallel_tree=1, random_state=0,\n",
       "              reg_alpha=0, reg_lambda=1, scale_pos_weight=1, subsample=1,\n",
       "              tree_method='exact', validate_parameters=1, verbosity=None)"
      ]
     },
     "execution_count": 44,
     "metadata": {},
     "output_type": "execute_result"
    }
   ],
   "source": [
    "model.fit(X_train_rs,y_train_rs)"
   ]
  },
  {
   "cell_type": "code",
   "execution_count": 46,
   "metadata": {},
   "outputs": [],
   "source": [
    "pred = model.predict(X_test)"
   ]
  },
  {
   "cell_type": "code",
   "execution_count": 47,
   "metadata": {},
   "outputs": [],
   "source": [
    "predictions = [round(value) for value in pred]"
   ]
  },
  {
   "cell_type": "code",
   "execution_count": 48,
   "metadata": {},
   "outputs": [
    {
     "data": {
      "text/plain": [
       "0.8968253968253969"
      ]
     },
     "execution_count": 48,
     "metadata": {},
     "output_type": "execute_result"
    }
   ],
   "source": [
    "accuracy_score(y_test,predictions)"
   ]
  },
  {
   "cell_type": "markdown",
   "metadata": {},
   "source": [
    "we are getting 89 persent by doing hyperparameter tuning we can improve accuracy"
   ]
  },
  {
   "cell_type": "code",
   "execution_count": null,
   "metadata": {},
   "outputs": [],
   "source": []
  }
 ],
 "metadata": {
  "kernelspec": {
   "display_name": "Python 3",
   "language": "python",
   "name": "python3"
  },
  "language_info": {
   "codemirror_mode": {
    "name": "ipython",
    "version": 3
   },
   "file_extension": ".py",
   "mimetype": "text/x-python",
   "name": "python",
   "nbconvert_exporter": "python",
   "pygments_lexer": "ipython3",
   "version": "3.8.3"
  }
 },
 "nbformat": 4,
 "nbformat_minor": 4
}
